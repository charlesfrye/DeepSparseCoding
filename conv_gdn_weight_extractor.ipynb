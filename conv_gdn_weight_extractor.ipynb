{
 "cells": [
  {
   "cell_type": "code",
   "execution_count": 1,
   "metadata": {
    "collapsed": true
   },
   "outputs": [],
   "source": [
    "import os\n",
    "import numpy as np\n",
    "import tensorflow as tf\n",
    "from utils.logger import Logger\n",
    "import models.model_picker as mp"
   ]
  },
  {
   "cell_type": "code",
   "execution_count": 2,
   "metadata": {},
   "outputs": [
    {
     "ename": "PermissionError",
     "evalue": "[Errno 13] Permission denied: '/home/dpaiton/Work/Projects/conv_gdn_autoencoder/logfiles/conv_gdn_autoencoder_v0.0.log'",
     "output_type": "error",
     "traceback": [
      "\u001b[0;31m---------------------------------------------------------------------------\u001b[0m",
      "\u001b[0;31mPermissionError\u001b[0m                           Traceback (most recent call last)",
      "\u001b[0;32m<ipython-input-2-a59b01767a99>\u001b[0m in \u001b[0;36m<module>\u001b[0;34m()\u001b[0m\n\u001b[1;32m      2\u001b[0m \u001b[0mmodel_log_file\u001b[0m \u001b[0;34m=\u001b[0m \u001b[0;34m\"/home/dpaiton/Work/Projects/\"\u001b[0m\u001b[0;34m+\u001b[0m\u001b[0mmodel_name\u001b[0m\u001b[0;34m+\u001b[0m\u001b[0;34m\"/logfiles/\"\u001b[0m\u001b[0;34m+\u001b[0m\u001b[0mmodel_name\u001b[0m\u001b[0;34m+\u001b[0m\u001b[0;34m\"_v0.0.log\"\u001b[0m\u001b[0;34m\u001b[0m\u001b[0m\n\u001b[1;32m      3\u001b[0m \u001b[0;34m\u001b[0m\u001b[0m\n\u001b[0;32m----> 4\u001b[0;31m \u001b[0mmodel_logger\u001b[0m \u001b[0;34m=\u001b[0m \u001b[0mLogger\u001b[0m\u001b[0;34m(\u001b[0m\u001b[0mmodel_log_file\u001b[0m\u001b[0;34m,\u001b[0m \u001b[0moverwrite\u001b[0m\u001b[0;34m=\u001b[0m\u001b[0;32mFalse\u001b[0m\u001b[0;34m)\u001b[0m\u001b[0;34m\u001b[0m\u001b[0m\n\u001b[0m\u001b[1;32m      5\u001b[0m \u001b[0mmodel_log_text\u001b[0m \u001b[0;34m=\u001b[0m \u001b[0mmodel_logger\u001b[0m\u001b[0;34m.\u001b[0m\u001b[0mload_file\u001b[0m\u001b[0;34m(\u001b[0m\u001b[0;34m)\u001b[0m\u001b[0;34m\u001b[0m\u001b[0m\n\u001b[1;32m      6\u001b[0m \u001b[0mmodel_params\u001b[0m \u001b[0;34m=\u001b[0m \u001b[0mmodel_logger\u001b[0m\u001b[0;34m.\u001b[0m\u001b[0mread_params\u001b[0m\u001b[0;34m(\u001b[0m\u001b[0mmodel_log_text\u001b[0m\u001b[0;34m)\u001b[0m\u001b[0;34m\u001b[0m\u001b[0m\n",
      "\u001b[0;32m/home/rzarcone/Conv_GDN/DeepSparseCoding/utils/logger.py\u001b[0m in \u001b[0;36m__init__\u001b[0;34m(self, filename, overwrite)\u001b[0m\n\u001b[1;32m     14\u001b[0m         \u001b[0mself\u001b[0m\u001b[0;34m.\u001b[0m\u001b[0mfile_obj\u001b[0m \u001b[0;34m=\u001b[0m \u001b[0mopen\u001b[0m\u001b[0;34m(\u001b[0m\u001b[0mfilename\u001b[0m\u001b[0;34m,\u001b[0m \u001b[0;34m\"w\"\u001b[0m\u001b[0;34m,\u001b[0m \u001b[0mbuffering\u001b[0m\u001b[0;34m=\u001b[0m\u001b[0;36m1\u001b[0m\u001b[0;34m)\u001b[0m\u001b[0;34m\u001b[0m\u001b[0m\n\u001b[1;32m     15\u001b[0m       \u001b[0;32melse\u001b[0m\u001b[0;34m:\u001b[0m\u001b[0;34m\u001b[0m\u001b[0m\n\u001b[0;32m---> 16\u001b[0;31m         \u001b[0mself\u001b[0m\u001b[0;34m.\u001b[0m\u001b[0mfile_obj\u001b[0m \u001b[0;34m=\u001b[0m \u001b[0mopen\u001b[0m\u001b[0;34m(\u001b[0m\u001b[0mfilename\u001b[0m\u001b[0;34m,\u001b[0m \u001b[0;34m\"r+\"\u001b[0m\u001b[0;34m,\u001b[0m \u001b[0mbuffering\u001b[0m\u001b[0;34m=\u001b[0m\u001b[0;36m1\u001b[0m\u001b[0;34m)\u001b[0m\u001b[0;34m\u001b[0m\u001b[0m\n\u001b[0m\u001b[1;32m     17\u001b[0m       \u001b[0mself\u001b[0m\u001b[0;34m.\u001b[0m\u001b[0mfile_obj\u001b[0m\u001b[0;34m.\u001b[0m\u001b[0mseek\u001b[0m\u001b[0;34m(\u001b[0m\u001b[0;36m0\u001b[0m\u001b[0;34m)\u001b[0m\u001b[0;34m\u001b[0m\u001b[0m\n\u001b[1;32m     18\u001b[0m \u001b[0;34m\u001b[0m\u001b[0m\n",
      "\u001b[0;31mPermissionError\u001b[0m: [Errno 13] Permission denied: '/home/dpaiton/Work/Projects/conv_gdn_autoencoder/logfiles/conv_gdn_autoencoder_v0.0.log'"
     ]
    }
   ],
   "source": [
    "model_name = \"conv_gdn_autoencoder\"\n",
    "model_log_file = \"/home/dpaiton/Work/Projects/\"+model_name+\"/logfiles/\"+model_name+\"_v0.0.log\"\n",
    "\n",
    "model_logger = Logger(model_log_file, overwrite=False)\n",
    "model_log_text = model_logger.load_file()\n",
    "model_params = model_logger.read_params(model_log_text)\n",
    "model_params[\"rand_state\"] = np.random.RandomState(model_params[\"rand_seed\"])\n",
    "\n",
    "model_schedule = model_logger.read_schedule(model_log_text)"
   ]
  },
  {
   "cell_type": "code",
   "execution_count": 11,
   "metadata": {
    "collapsed": true
   },
   "outputs": [],
   "source": [
    "model_params[\"model_dir\"] = (os.path.expanduser(\"~\")+\"/Work/Projects/\"+model_params[\"model_name\"])\n",
    "analysis_out_dir = model_params[\"model_dir\"]+\"/analysis/\"+model_params[\"version\"]+\"/\"\n",
    "if not os.path.exists(analysis_out_dir):\n",
    "  os.makedirs(analysis_out_dir)\n",
    "analysis_log_file = analysis_out_dir+\"analysis.log\"\n",
    "model_params[\"model_out_dir\"] = analysis_out_dir\n",
    "model_params[\"cp_load\"] = True\n",
    "model_params[\"cp_load_name\"] = model_name\n",
    "model_params[\"cp_load_step\"] = None\n",
    "model_params[\"cp_load_ver\"] = \"0.0\"\n",
    "model_params[\"cp_load_dir\"] = model_params[\"model_dir\"]+\"/checkpoints/\""
   ]
  },
  {
   "cell_type": "code",
   "execution_count": 12,
   "metadata": {
    "collapsed": true
   },
   "outputs": [],
   "source": [
    "model = mp.get_model(model_params[\"model_type\"])\n",
    "#model.w_init_list = [None,]*num_layers/2+[np.loadz(\"path_to_w\"+idx) for idx in range(3,6)]\n",
    "#...\n",
    "model.setup(model_params, model_schedule)"
   ]
  },
  {
   "cell_type": "code",
   "execution_count": 14,
   "metadata": {},
   "outputs": [
    {
     "name": "stdout",
     "output_type": "stream",
     "text": [
      "INFO:tensorflow:Restoring parameters from /home/dpaiton/Work/Projects/conv_gdn_autoencoder/checkpoints/conv_gdn_autoencoder_v0.0_weights-44640\n"
     ]
    }
   ],
   "source": [
    "feed_dict = model.get_feed_dict(np.zeros([model_params[\"batch_size\"]]+model_params[\"data_shape\"], dtype=np.float32))\n",
    "config = tf.ConfigProto()\n",
    "config.gpu_options.allow_growth = True\n",
    "with tf.Session(config=config, graph=model.graph) as sess:\n",
    "  sess.run(model.init_op, feed_dict)\n",
    "  cp_load_file = tf.train.latest_checkpoint(model.cp_load_dir, model.cp_latest_filename)\n",
    "  model.load_weights(sess, cp_load_file)\n",
    "  tensors = [model.w_list, model.w_gdn_list, model.b_list, model.b_gdn_list]\n",
    "  eval_list = sess.run(tensors, feed_dict)"
   ]
  },
  {
   "cell_type": "code",
   "execution_count": 26,
   "metadata": {},
   "outputs": [
    {
     "name": "stdout",
     "output_type": "stream",
     "text": [
      "(5, 5, 128, 7)\n",
      "(5, 5, 128, 128)\n",
      "(9, 9, 1, 128)\n",
      "(128, 128)\n",
      "(128, 128)\n",
      "(1, 1)\n",
      "(128,)\n",
      "(128,)\n",
      "(1,)\n",
      "(128,)\n",
      "(128,)\n",
      "(1,)\n"
     ]
    }
   ],
   "source": [
    "num_weights = len(eval_list[0])\n",
    "half_weight_idx = int((num_weights/2))\n",
    "decode_weights_list = eval_list[0][half_weight_idx:]\n",
    "for decode_idx, decode_weights in enumerate(decode_weights_list):\n",
    "  w_idx = str(decode_idx+half_weight_idx)\n",
    "  print(\"weight \",w_idx,\" \",decode_weights.shape)\n",
    "  np.savez(analysis_out_dir+\"w\"+w_idx+\".npz\", data=decode_weights)\n",
    "  \n",
    "decode_gdn_list = eval_list[1][half_weight_idx:]\n",
    "for decode_idx, decode_gdn in enumerate(decode_gdn_list):\n",
    "  w_idx = str(decode_idx+half_weight_idx)\n",
    "  print(\"gdn \",w_idx,\" \",decode_gdn.shape)\n",
    "  np.savez(analysis_out_dir+\"w_gdn\"+w_idx+\".npz\", data=decode_gdn)\n",
    "\n",
    "decode_b_list = eval_list[2][half_weight_idx:]\n",
    "for decode_idx, decode_b in enumerate(decode_b_list):\n",
    "  w_idx = str(decode_idx+half_weight_idx)\n",
    "  print(\"b \",w_idx,\" \",decode_b.shape)\n",
    "  np.savez(analysis_out_dir+\"b\"+w_idx+\".npz\", data=decode_b)\n",
    "  \n",
    "decode_b_gdn_list = eval_list[3][half_weight_idx:]\n",
    "for decode_idx, decode_b_gdn in enumerate(decode_b_gdn_list):\n",
    "  w_idx = str(decode_idx+half_weight_idx)\n",
    "  print(decode_b_gdn.shape)\n",
    "  np.savez(analysis_out_dir+\"b_gdn\"+w_idx+\".npz\", data=decode_b_gdn)"
   ]
  },
  {
   "cell_type": "code",
   "execution_count": null,
   "metadata": {
    "collapsed": true
   },
   "outputs": [],
   "source": []
  }
 ],
 "metadata": {
  "kernelspec": {
   "display_name": "Python 3",
   "language": "python",
   "name": "python3"
  },
  "language_info": {
   "codemirror_mode": {
    "name": "ipython",
    "version": 3
   },
   "file_extension": ".py",
   "mimetype": "text/x-python",
   "name": "python",
   "nbconvert_exporter": "python",
   "pygments_lexer": "ipython3",
   "version": "3.4.3"
  }
 },
 "nbformat": 4,
 "nbformat_minor": 2
}
